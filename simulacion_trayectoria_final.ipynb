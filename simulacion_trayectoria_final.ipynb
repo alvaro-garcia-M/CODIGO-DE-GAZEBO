{
 "cells": [
  {
   "cell_type": "code",
   "execution_count": 1,
   "id": "32145e5a",
   "metadata": {},
   "outputs": [],
   "source": [
    "#ROS NOETIC UBUNTU  20 PYTHON3"
   ]
  },
  {
   "cell_type": "code",
   "execution_count": 2,
   "id": "6c54ce57",
   "metadata": {},
   "outputs": [],
   "source": [
    "import rospy \n",
    "import time\n",
    "import numpy as np \n",
    "from geometry_msgs.msg import Twist\n"
   ]
  },
  {
   "cell_type": "code",
   "execution_count": 3,
   "id": "afd1e2ec",
   "metadata": {},
   "outputs": [
    {
     "name": "stdout",
     "output_type": "stream",
     "text": [
      "Unable to load msg [geometry_msgs/Twis]: Cannot locate message [Twis] in package [geometry_msgs] with paths [['/opt/ros/noetic/share/geometry_msgs/msg']]\r\n"
     ]
    }
   ],
   "source": [
    "! rosmsg info geometry_msgs/Twis"
   ]
  },
  {
   "cell_type": "code",
   "execution_count": 4,
   "id": "98e47c48",
   "metadata": {},
   "outputs": [],
   "source": [
    "rospy.init_node ('base_and_sensor')  ###conectamos/creamoos un nodo llamado \n",
    "base_vel_pub = rospy.Publisher('/hsrb/command_velocity',Twist, queue_size=10)"
   ]
  },
  {
   "cell_type": "code",
   "execution_count": 5,
   "id": "af03fa7a",
   "metadata": {},
   "outputs": [],
   "source": [
    "def move_base_vel(vx, vy, vz):\n",
    "    twist = Twist()\n",
    "    twist.linear.x = vx\n",
    "    twist.linear.y = vy\n",
    "    twist.angular.z = vz\n",
    "    base_vel_pub.publish(twist)"
   ]
  },
  {
   "cell_type": "code",
   "execution_count": 6,
   "id": "871d5f80",
   "metadata": {},
   "outputs": [],
   "source": [
    "twist = Twist()"
   ]
  },
  {
   "cell_type": "code",
   "execution_count": 7,
   "id": "e90ba125",
   "metadata": {},
   "outputs": [
    {
     "data": {
      "text/plain": [
       "0.0"
      ]
     },
     "execution_count": 7,
     "metadata": {},
     "output_type": "execute_result"
    }
   ],
   "source": [
    "twist.linear.y"
   ]
  },
  {
   "cell_type": "code",
   "execution_count": 8,
   "id": "0a0d056c",
   "metadata": {},
   "outputs": [],
   "source": [
    "start_time = rospy.Time.now().to_sec()\n",
    "while rospy.Time.now().to_sec() - start_time < 30:\n",
    "    move_base_vel(0, -0.09, 0)"
   ]
  },
  {
   "cell_type": "code",
   "execution_count": 9,
   "id": "e39c751e",
   "metadata": {},
   "outputs": [
    {
     "data": {
      "text/plain": [
       "0.0"
      ]
     },
     "execution_count": 9,
     "metadata": {},
     "output_type": "execute_result"
    }
   ],
   "source": [
    "twist.linear.x"
   ]
  },
  {
   "cell_type": "code",
   "execution_count": 10,
   "id": "fedd4d45",
   "metadata": {},
   "outputs": [],
   "source": [
    "start_time = rospy.Time.now().to_sec()\n",
    "while rospy.Time.now().to_sec() - start_time < 48:\n",
    "    move_base_vel(-0.1, 0, 0)"
   ]
  },
  {
   "cell_type": "code",
   "execution_count": 11,
   "id": "5f63f4a2",
   "metadata": {},
   "outputs": [
    {
     "data": {
      "text/plain": [
       "0.0"
      ]
     },
     "execution_count": 11,
     "metadata": {},
     "output_type": "execute_result"
    }
   ],
   "source": [
    "twist.linear.y"
   ]
  },
  {
   "cell_type": "code",
   "execution_count": 12,
   "id": "26f6b1ae",
   "metadata": {},
   "outputs": [],
   "source": [
    "start_time = rospy.Time.now().to_sec()\n",
    "while rospy.Time.now().to_sec() - start_time < 5:\n",
    "    move_base_vel(0, -0.1, 0)"
   ]
  },
  {
   "cell_type": "code",
   "execution_count": 13,
   "id": "9b6302da",
   "metadata": {},
   "outputs": [
    {
     "data": {
      "text/plain": [
       "0.0"
      ]
     },
     "execution_count": 13,
     "metadata": {},
     "output_type": "execute_result"
    }
   ],
   "source": [
    "twist.angular.z"
   ]
  },
  {
   "cell_type": "code",
   "execution_count": null,
   "id": "4db8cea0",
   "metadata": {},
   "outputs": [],
   "source": [
    "start_time = rospy.Time.now().to_sec()\n",
    "while rospy.Time.now().to_sec() - start_time < 9:\n",
    "    move_base_vel(0, 0, 0.1)"
   ]
  },
  {
   "cell_type": "code",
   "execution_count": null,
   "id": "d0ece419",
   "metadata": {},
   "outputs": [],
   "source": []
  },
  {
   "cell_type": "code",
   "execution_count": null,
   "id": "ad2608ca",
   "metadata": {},
   "outputs": [],
   "source": []
  },
  {
   "cell_type": "code",
   "execution_count": null,
   "id": "a9f475b3",
   "metadata": {},
   "outputs": [],
   "source": []
  }
 ],
 "metadata": {
  "kernelspec": {
   "display_name": "Python 3 (ipykernel)",
   "language": "python",
   "name": "python3"
  },
  "language_info": {
   "codemirror_mode": {
    "name": "ipython",
    "version": 3
   },
   "file_extension": ".py",
   "mimetype": "text/x-python",
   "name": "python",
   "nbconvert_exporter": "python",
   "pygments_lexer": "ipython3",
   "version": "3.8.10"
  }
 },
 "nbformat": 4,
 "nbformat_minor": 5
}
